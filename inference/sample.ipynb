{
 "cells": [
  {
   "cell_type": "markdown",
   "metadata": {},
   "source": [
    "# Preparation"
   ]
  },
  {
   "cell_type": "code",
   "execution_count": null,
   "metadata": {},
   "outputs": [],
   "source": [
    "import os, sys\n",
    "\n",
    "workspace = os.path.abspath('../')\n",
    "\n",
    "ckpt_path = './checkpoints/lvcd.ckpt'\n",
    "svd_path = './checkpoints/svd.safetensors'\n",
    "config_path = './configs/lvcd.yaml'\n",
    "device = 'cuda:0'"
   ]
  },
  {
   "cell_type": "markdown",
   "metadata": {},
   "source": [
    "# Load model"
   ]
  },
  {
   "cell_type": "code",
   "execution_count": null,
   "metadata": {},
   "outputs": [],
   "source": [
    "os.chdir(workspace)\n",
    "sys.path.append(workspace)\n",
    "%load_ext autoreload\n",
    "\n",
    "import numpy as np\n",
    "import argparse\n",
    "import torch\n",
    "from utils import *\n",
    "\n",
    "model = load_model(device, config_path, svd_path, ckpt_path, use_xformer=True)\n",
    "\n",
    "# Lineart extractor\n",
    "from lineart_extractor.annotator.lineart import LineartDetector\n",
    "detector = LineartDetector(device)"
   ]
  },
  {
   "cell_type": "code",
   "execution_count": null,
   "metadata": {},
   "outputs": [],
   "source": [
    "print(model.model.diffusion_model)"
   ]
  },
  {
   "cell_type": "markdown",
   "metadata": {},
   "source": [
    "# Load data"
   ]
  },
  {
   "cell_type": "code",
   "execution_count": null,
   "metadata": {},
   "outputs": [],
   "source": [
    "%autoreload\n",
    "import json\n",
    "from PIL import Image\n",
    "from glob import glob\n",
    "\n",
    "root = './inference/test/sample_1'\n",
    "\n",
    "N = len( glob(f'{root}/*.png') )\n",
    "\n",
    "inp = argparse.ArgumentParser()\n",
    "inp.resolution = [320, 576]\n",
    "\n",
    "inp.imgs = []\n",
    "inp.skts = []\n",
    "for i in range(N):\n",
    "    img = load_img(f'{root}/{i}.png', inp.resolution).to(device).unsqueeze(0)\n",
    "    inp.imgs.append(img)\n",
    "    np_img = np.array( Image.open(f'{root}/{i}.png').convert('RGB') )\n",
    "    with torch.no_grad():\n",
    "        skt = detector(np_img, coarse=False)\n",
    "    skt = torch.from_numpy(skt).float()\n",
    "    skt = (skt / 255.0)\n",
    "    skt = skt[None, None, :, :].repeat(1, 3, 1, 1)\n",
    "    skt = 1.0 - skt\n",
    "    inp.skts.append(skt)"
   ]
  },
  {
   "cell_type": "markdown",
   "metadata": {},
   "source": [
    "# Sample video"
   ]
  },
  {
   "cell_type": "code",
   "execution_count": null,
   "metadata": {},
   "outputs": [],
   "source": [
    "%autoreload\n",
    "from sample_func import sample_video, decode_video\n",
    "\n",
    "arg = argparse.ArgumentParser()\n",
    "\n",
    "arg.ref_mode = 'prevref'\n",
    "arg.num_frames = 19\n",
    "arg.num_steps = 25\n",
    "arg.overlap = 4\n",
    "arg.prev_attn_steps = 25\n",
    "arg.scale = [1.0, 1.0]\n",
    "arg.seed = 1234\n",
    "arg.decoding_t = 10\n",
    "arg.decoding_olap = 3\n",
    "arg.decoding_first = 1\n",
    "arg.fps_id = 6\n",
    "arg.motion_bucket_id = 160\n",
    "arg.cond_aug = 0.0\n",
    "\n",
    "sample = sample_video(model, device, inp, arg, verbose=True)\n",
    "frames = decode_video(model, device, sample, arg)\n",
    "\n",
    "make_video('./inference', frames.unsqueeze(0), fps=20, cols=1, name='output')"
   ]
  }
 ],
 "metadata": {
  "kernelspec": {
   "display_name": "lvcd",
   "language": "python",
   "name": "python3"
  },
  "language_info": {
   "codemirror_mode": {
    "name": "ipython",
    "version": 3
   },
   "file_extension": ".py",
   "mimetype": "text/x-python",
   "name": "python",
   "nbconvert_exporter": "python",
   "pygments_lexer": "ipython3",
   "version": "3.10.0"
  }
 },
 "nbformat": 4,
 "nbformat_minor": 2
}
